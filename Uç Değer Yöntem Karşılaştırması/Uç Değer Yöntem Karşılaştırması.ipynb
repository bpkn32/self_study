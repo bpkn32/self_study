{
 "cells": [
  {
   "cell_type": "markdown",
   "id": "87f5c3d6",
   "metadata": {},
   "source": [
    "# Uç Değer İşlemeye Farklı Bir Bakış Açısı\n",
    "\n",
    "### Berk Pişkin\n",
    "#### 02/08/2022"
   ]
  },
  {
   "cell_type": "markdown",
   "id": "4dcd77f9",
   "metadata": {},
   "source": [
    "Gerekli paketlerin yüklenmesi:"
   ]
  },
  {
   "cell_type": "code",
   "execution_count": 57,
   "id": "ff7dc15c",
   "metadata": {},
   "outputs": [],
   "source": [
    "import pandas as pd\n",
    "import numpy as np\n",
    "import matplotlib.pyplot as plt\n",
    "import seaborn as sns\n",
    "from scipy import stats\n",
    "from sklearn.preprocessing import StandardScaler\n",
    "from sklearn.model_selection import train_test_split,cross_val_score\n",
    "from sklearn.ensemble import RandomForestClassifier\n",
    "from sklearn.metrics import accuracy_score,classification_report\n",
    "from sklearn.impute import SimpleImputer"
   ]
  },
  {
   "cell_type": "markdown",
   "id": "e85e0ab7",
   "metadata": {},
   "source": [
    "Verinin okunması:"
   ]
  },
  {
   "cell_type": "code",
   "execution_count": 15,
   "id": "579f2c5c",
   "metadata": {},
   "outputs": [
    {
     "name": "stdout",
     "output_type": "stream",
     "text": [
      "(768, 9)\n",
      "Pregnancies                 0\n",
      "Glucose                     0\n",
      "BloodPressure               0\n",
      "SkinThickness               0\n",
      "Insulin                     0\n",
      "BMI                         0\n",
      "DiabetesPedigreeFunction    0\n",
      "Age                         0\n",
      "Outcome                     0\n",
      "dtype: int64\n"
     ]
    }
   ],
   "source": [
    "df = pd.read_csv(\"diabetes.csv\")\n",
    "print(df.shape)\n",
    "print(df.isnull().sum())"
   ]
  },
  {
   "cell_type": "markdown",
   "id": "7d7def4b",
   "metadata": {},
   "source": [
    "Verimiz 8 sayısal değişken üzerinden \"diyabet\" : 1 ve \"diyabet değil\" : 0 şeklinde sınıflandırma yapılmış popüler \"Diabet\" verisi.\n",
    "İlk etapta 768 gözlemimiz var ve veride hiç boş değer yok. Uç değerlerin mevcutluğunu gözlemlemek adına bir boxplot çizdirelim."
   ]
  },
  {
   "cell_type": "code",
   "execution_count": 3,
   "id": "86d9540e",
   "metadata": {
    "scrolled": true
   },
   "outputs": [
    {
     "data": {
      "text/plain": [
       "<AxesSubplot:xlabel='variable', ylabel='value'>"
      ]
     },
     "execution_count": 3,
     "metadata": {},
     "output_type": "execute_result"
    },
    {
     "data": {
      "image/png": "[encoded data removed]",
      "text/plain": [
       "<Figure size 1080x504 with 1 Axes>"
      ]
     },
     "metadata": {
      "needs_background": "light"
     },
     "output_type": "display_data"
    }
   ],
   "source": [
    "df_scaled = StandardScaler().fit_transform(df)\n",
    "df_scaled = pd.DataFrame(df_scaled,columns=df.columns)\n",
    "plt.figure(figsize=(15,7))\n",
    "sns.boxplot(x=\"variable\",y=\"value\",data=pd.melt(df_scaled))"
   ]
  },
  {
   "cell_type": "markdown",
   "id": "628316f4",
   "metadata": {},
   "source": [
    "Görüldüğü üzere her değişkende uç değer mevcut. Bu uç değerler ile ilgilenmeden önce, karşılaştırma yapabilmek adına orjinal veride basit bir random forest modeli eğitip test skorunu elde edelim."
   ]
  },
  {
   "cell_type": "code",
   "execution_count": 71,
   "id": "6056a7f6",
   "metadata": {},
   "outputs": [
    {
     "name": "stdout",
     "output_type": "stream",
     "text": [
      "Orjinal veride Random Forest skoru = 0.7532467532467533\n"
     ]
    }
   ],
   "source": [
    "x = df.drop(\"Outcome\",axis=1)\n",
    "y = df.Outcome\n",
    "x_train,x_test,y_train,y_test = train_test_split(x,y,test_size=0.3,random_state=42)\n",
    "rf = RandomForestClassifier(random_state=42)\n",
    "rf.fit(x_train,y_train)\n",
    "print(f\"Orjinal veride Random Forest skoru = {accuracy_score(rf.predict(x_test),y_test)}\")"
   ]
  },
  {
   "cell_type": "markdown",
   "id": "743cfdca",
   "metadata": {},
   "source": [
    "Sınıflandırma başarımız %75 civarı. Bakalım uç değerlerle ilgilendikten sonra başarı farkı görecek miyiz. Amacımız, orjinal verideki test başarımızı arttırmak. Bu yüzden orjinal veriye farklı yöntemler uyguladıktan sonra modifiye edilmiş veride eğittiğimiz modelleri orjinal verimizde test edeceğiz."
   ]
  },
  {
   "cell_type": "markdown",
   "id": "bdd97fb3",
   "metadata": {},
   "source": [
    "## Uç Değer Silme"
   ]
  },
  {
   "cell_type": "code",
   "execution_count": 72,
   "id": "1ec14f0e",
   "metadata": {},
   "outputs": [
    {
     "name": "stdout",
     "output_type": "stream",
     "text": [
      "Uç değer bulunduran gözlem sayısı = 80\n",
      "Uç değer bulunduran gözlemler silindikten sonra boyut: 688\n"
     ]
    }
   ],
   "source": [
    "df_wo = df[(np.abs(stats.zscore(df)) < 3).all(axis=1)]\n",
    "print(f\"Uç değer bulunduran gözlem sayısı = {df.shape[0]-df_wo.shape[0]}\")\n",
    "print(f\"Uç değer bulunduran gözlemler silindikten sonra boyut: {df_wo.shape[0]}\")"
   ]
  },
  {
   "cell_type": "code",
   "execution_count": 73,
   "id": "ba142bcd",
   "metadata": {},
   "outputs": [
    {
     "name": "stdout",
     "output_type": "stream",
     "text": [
      "Uç değer bulunduran gözlemler silindikten sonra Random Forest skoru = 0.8917748917748918\n"
     ]
    }
   ],
   "source": [
    "x = df_wo.drop(\"Outcome\",axis=1)\n",
    "y = df_wo.Outcome\n",
    "x_train_wo,x_test_wo,y_train_wo,y_test_wo = train_test_split(x,y,test_size=0.3,random_state=42)\n",
    "rf = RandomForestClassifier(random_state=42)\n",
    "rf.fit(x_train_wo,y_train_wo)\n",
    "print(f\"Uç değer bulunduran gözlemler silindikten sonra Random Forest skoru = {accuracy_score(rf.predict(x_test),y_test)}\")"
   ]
  },
  {
   "cell_type": "markdown",
   "id": "63c70b51",
   "metadata": {},
   "source": [
    "Başarı kayda değer bir şekilde yükselmiş. Ancak bu başarı başka veride yakalanamayabilir. Uç değerlerin daha fazla olduğu bir senaryoda, tüm bu gözlemleri silmek bilgi kaybına neden olur ve gelecekte sınıflandırılması gereken uç değerli bir gözlem yanlış sınıflandırılabilir."
   ]
  },
  {
   "cell_type": "markdown",
   "id": "dc7ea509",
   "metadata": {},
   "source": [
    "## Uç değerleri medyan ile değiştirme"
   ]
  },
  {
   "cell_type": "code",
   "execution_count": 74,
   "id": "e61a7c38",
   "metadata": {},
   "outputs": [],
   "source": [
    "# Uç değerleri boş değere çevirme:\n",
    "df_temp = df.copy()\n",
    "for col in df.columns:\n",
    "    s = df_temp[col]\n",
    "    outlier_s = np.abs(stats.zscore(s)) >= 3\n",
    "    df_temp[col] = s.where(~outlier_s,np.nan)\n",
    "\n",
    "# Boş değerleri medyan ile değiştirme:\n",
    "median_imputer = SimpleImputer(strategy=\"median\")\n",
    "df_imputed = median_imputer.fit_transform(df_temp)\n",
    "df_imputed = pd.DataFrame(df_imputed,columns=df_temp.columns)"
   ]
  },
  {
   "cell_type": "code",
   "execution_count": 75,
   "id": "e6d40c9d",
   "metadata": {},
   "outputs": [
    {
     "name": "stdout",
     "output_type": "stream",
     "text": [
      "Uç değer bulunduran gözlemler medyan ile değiştirildikten sonra Random Forest skoru = 0.7229437229437229\n"
     ]
    }
   ],
   "source": [
    "x = df_imputed.drop(\"Outcome\",axis=1)\n",
    "y = df_imputed.Outcome\n",
    "x_train_imputed,x_test_imputed,y_train_imputed,y_test_imputed = train_test_split(x,y,test_size=0.3,random_state=42)\n",
    "rf = RandomForestClassifier(random_state=42)\n",
    "rf.fit(x_train_imputed,y_train_imputed)\n",
    "print(f\"Uç değer bulunduran gözlemler medyan ile değiştirildikten sonra Random Forest skoru = {accuracy_score(rf.predict(x_test),y_test)}\")"
   ]
  },
  {
   "cell_type": "markdown",
   "id": "69cd83a2",
   "metadata": {},
   "source": [
    "Bu yöntem ile başarımızın düştüğünü gözlemliyoruz. Ancak bir önceki yoruma benzer bir şekilde, bu yöntem kullanılarak başka bir veride başarı artışı yakalanabilir."
   ]
  },
  {
   "cell_type": "markdown",
   "id": "930c5112",
   "metadata": {},
   "source": [
    "## Uç değerleri veriye geri kazandırma"
   ]
  },
  {
   "cell_type": "markdown",
   "id": "d4156037",
   "metadata": {},
   "source": [
    "Aşağıda kodu bulunan outlier_multiplicator veride en az bir değişkeninde uç değer bulunduran gözlemleri rastgele ve yerine koymalı seçim ile orjinal veriye geri ekler. 'ratio' parametresi, orjinal verideki uç değerli gözlem sayısının 'ratio' katı kadar ekleneceğini belirtir. "
   ]
  },
  {
   "cell_type": "code",
   "execution_count": 93,
   "id": "55e13736",
   "metadata": {},
   "outputs": [],
   "source": [
    "def outlier_multiplicator(df,ratio):\n",
    "\n",
    "    outliers = df[(np.abs(stats.zscore(df)) >= 3).any(axis=1)]\n",
    "    print(f\"Z-skor >= 3 şartı ile belirlenen uç değerli gözlem sayısı = {outliers.shape[0]}\")\n",
    "    print(f\"Orjinal verideki gözlem sayısı = {df.shape[0]}\")\n",
    "    df_multiplied = pd.concat([outliers.sample(int(outliers.shape[0]*ratio),replace=True),df],axis=0)\n",
    "    df_multiplied.reset_index(inplace=True)\n",
    "    df_multiplied.drop(\"index\",axis=1,inplace=True)\n",
    "    print(f\"Uç değerler çoğaltıldıktan sonraki gözlem sayısı = {df_multiplied.shape[0]}\")\n",
    "    return df_multiplied"
   ]
  },
  {
   "cell_type": "code",
   "execution_count": 94,
   "id": "bf8210ee",
   "metadata": {},
   "outputs": [
    {
     "name": "stdout",
     "output_type": "stream",
     "text": [
      "Z-skor >= 3 şartı ile belirlenen uç değerli gözlem sayısı = 80\n",
      "Orjinal verideki gözlem sayısı = 768\n",
      "Uç değerler çoğaltıldıktan sonraki gözlem sayısı = 1408\n"
     ]
    }
   ],
   "source": [
    "df_multiplied = outlier_multiplicator(df,8)"
   ]
  },
  {
   "cell_type": "code",
   "execution_count": 95,
   "id": "39547499",
   "metadata": {},
   "outputs": [
    {
     "name": "stdout",
     "output_type": "stream",
     "text": [
      "Uç değer bulunduran gözlemler medyan ile değiştirildikten sonra Random Forest skoru = 0.948051948051948\n"
     ]
    }
   ],
   "source": [
    "x = df_multiplied.drop(\"Outcome\",axis=1)\n",
    "y = df_multiplied.Outcome\n",
    "x_train_multiplied,x_test_multiplied,y_train_multiplied,y_test_multiplied = train_test_split(x,y,test_size=0.3,random_state=42)\n",
    "rf = RandomForestClassifier(random_state=42)\n",
    "rf.fit(x_train_multiplied,y_train_multiplied)\n",
    "print(f\"Uç değer bulunduran gözlemler medyan ile değiştirildikten sonra Random Forest skoru = {accuracy_score(rf.predict(x_test),y_test)}\")"
   ]
  },
  {
   "cell_type": "markdown",
   "id": "7311240c",
   "metadata": {},
   "source": [
    "Sonuç : Uç değerleri veriye geri kazandırma mantığı ile hyper-tuning bile yapmadan %95'e yakın başarı yakalayabilmiş olduk."
   ]
  },
  {
   "cell_type": "code",
   "execution_count": null,
   "id": "5db4c07e",
   "metadata": {},
   "outputs": [],
   "source": []
  }
 ],
 "metadata": {
  "kernelspec": {
   "display_name": "Python 3 (ipykernel)",
   "language": "python",
   "name": "python3"
  },
  "language_info": {
   "codemirror_mode": {
    "name": "ipython",
    "version": 3
   },
   "file_extension": ".py",
   "mimetype": "text/x-python",
   "name": "python",
   "nbconvert_exporter": "python",
   "pygments_lexer": "ipython3",
   "version": "3.8.5"
  }
 },
 "nbformat": 4,
 "nbformat_minor": 5
}
